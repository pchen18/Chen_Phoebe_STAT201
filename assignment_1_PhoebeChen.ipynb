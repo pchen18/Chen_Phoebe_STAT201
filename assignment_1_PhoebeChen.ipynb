{
 "cells": [
  {
   "cell_type": "raw",
   "metadata": {
    "vscode": {
     "languageId": "raw"
    }
   },
   "source": [
    "---\n",
    "title: \"Assignment 1\"\n",
    "subtitle: \"STAT 201\"\n",
    "author: \"Phoebe Chen\"\n",
    "format:\n",
    "  html:\n",
    "    toc: true\n",
    "    embed-resources: true\n",
    "jupyter: python3\n",
    "---"
   ]
  },
  {
   "cell_type": "markdown",
   "metadata": {},
   "source": [
    "## Instructions {-}\n",
    "\n",
    "1. **Write your name** on the assignment.\n",
    "\n",
    "2. Write your code in the *Code* cells of the **template provided** to write solutions for the assignment. **Do not open a new notebook**, and work from scratch. Ensure that the solution is written neatly enough to understand and grade.\n",
    "\n",
    "3. Use [Quarto](https://quarto.org/docs/output-formats/html-basics.html) to print the *.ipynb* file as HTML. You will need to open the command prompt, navigate to the directory containing the file, and use the command: `quarto render filename.ipynb --to html`. Submit the HTML file.\n",
    "\n",
    "4. You may talk to a friend, discuss the questions and potential directions for solving them. However, you need to write your own solutions and code separately, and not as a group activity. Do not use AI to solve the problems.\n",
    "\n",
    "5. If your document is not clean and organized, you can lose up to 2 points:\n",
    "\n",
    "    - Must be an HTML file rendered using Quarto. \n",
    "    - There aren’t excessively long outputs of extraneous information (e.g. no printouts of unnecessary results without good reason, there aren’t long printouts of which iteration a loop is on, there aren’t long sections of commented-out code, etc.). There is no piece of unnecessary / redundant code, and no unnecessary / redundant text\n",
    "    - The code follows the [python style guide](https://peps.python.org/pep-0008/) for naming variables, spaces, indentation, etc.\n",
    "    - The code should be commented and clearly written with intuitive variable names. For example, use variable names such as number_input, factor, hours, instead of a,b,xyz, etc.\n",
    "\n",
    "6. If your document does not include the output of your code, you may lose up to 5 points."
   ]
  },
  {
   "cell_type": "markdown",
   "metadata": {},
   "source": [
    "## Question 1 (4 points)"
   ]
  },
  {
   "cell_type": "markdown",
   "metadata": {},
   "source": [
    "a) Create a a variable called `var_float` that contains a decimal number."
   ]
  },
  {
   "cell_type": "code",
   "execution_count": 6,
   "metadata": {},
   "outputs": [],
   "source": [
    "var_float = 3.7\n"
   ]
  },
  {
   "cell_type": "markdown",
   "metadata": {},
   "source": [
    "b) Store a sentence as `var_sent` that reads exactly as follows: \"The square of `{}` is `{}`.\" Where the first `{}` is your `var_float` and the second `{}` is the square of that variable. Print your sentence."
   ]
  },
  {
   "cell_type": "code",
   "execution_count": 7,
   "metadata": {},
   "outputs": [
    {
     "name": "stdout",
     "output_type": "stream",
     "text": [
      "the square of 3.7 is 13.690000000000001\n"
     ]
    }
   ],
   "source": [
    "var_sent = f\"the square of {float(var_float)} is {float(var_float)**2}\"\n",
    "print(var_sent)"
   ]
  },
  {
   "cell_type": "markdown",
   "metadata": {},
   "source": [
    "c) Print the output of using the `count` **method** to determine how many spaces are in `var_sent`."
   ]
  },
  {
   "cell_type": "code",
   "execution_count": 8,
   "metadata": {},
   "outputs": [
    {
     "name": "stdout",
     "output_type": "stream",
     "text": [
      "5\n"
     ]
    }
   ],
   "source": [
    "print(var_sent.count(\" \")) #counts the number of spacces in var_sent"
   ]
  },
  {
   "cell_type": "markdown",
   "metadata": {},
   "source": [
    "d) Round your `var_float` to 0 decimal places and convert to an integer. Store this as `var_int` and print the `type` to verify this was done correctly."
   ]
  },
  {
   "cell_type": "code",
   "execution_count": 9,
   "metadata": {},
   "outputs": [
    {
     "data": {
      "text/plain": [
       "int"
      ]
     },
     "execution_count": 9,
     "metadata": {},
     "output_type": "execute_result"
    }
   ],
   "source": [
    "var_int = int(round(var_float)) #rounds the float to the nearest integer\n",
    "type(var_int)"
   ]
  },
  {
   "cell_type": "markdown",
   "metadata": {},
   "source": [
    "## Question 2 (3 points)"
   ]
  },
  {
   "cell_type": "markdown",
   "metadata": {},
   "source": [
    "Have a user input 2 Booleans (hint: must be type bool). In a **single print line**, using only `and`, `or`, `not` functions, have the output return True if both variables are the same, and False is they are different. \n",
    "\n",
    "Clarification: 1) cannot use conditional if statements 2) this must be capable of printing the correct output for any possible booleans the user could enter, not just the one example that your html will show."
   ]
  },
  {
   "cell_type": "code",
   "execution_count": null,
   "metadata": {},
   "outputs": [
    {
     "name": "stdout",
     "output_type": "stream",
     "text": [
      "True\n"
     ]
    }
   ],
   "source": [
    "#function that changes input to boolean\n",
    "def bool_yes(value):\n",
    "    value = str(value).strip().lower()\n",
    "    return value in (\"1\", \"true\")\n",
    "#compares 2 booleans and if they are both True or False, it prints True, and if not, False\n",
    "bool_1 = bool_yes(input(\"enter a boolean: \"))\n",
    "bool_2 = bool_yes(input(\"enter another boolean: \"))\n",
    "print ((bool_1 and bool_2) or ((not bool_1) and (not bool_2)))"
   ]
  },
  {
   "cell_type": "markdown",
   "metadata": {},
   "source": [
    "## Question 3 (6 points)"
   ]
  },
  {
   "cell_type": "markdown",
   "metadata": {},
   "source": [
    "At Northwestern, email addresses are classified as follows:\n",
    "\n",
    "- **Student email addresses** end with `@u.northwestern.edu`.\n",
    "- **Professor email addresses** end with `@northwestern.edu` (but not `@u.northwestern.edu`).\n",
    "\n",
    "Write a Python program that:\n",
    "1. Asks the user how many email addresses they will enter.\n",
    "2. Prompts the user to input each email address.\n",
    "3. After all email addresses are entered:\n",
    "   - Print all professor email addresses under the heading `\"Professor Emails:\"`.\n",
    "   - Print all student email addresses under the heading `\"Student Emails:\"`.\n",
    "   - If no professor or student emails were entered, print `\"None\"` under the respective heading.\n",
    "\n",
    "### Requirements:\n",
    "- Do not use lists or other advanced data structures, since we have not covered them yet.\n",
    "- Use only basic string operations and loops.\n",
    "- **The program must handle all cases**, regardless of uppercase or lowercase in the email addresses.\n",
    "- **Trim any leading or trailing whitespace** in the user input before classifying the email.\n",
    "\n",
    "**Example Run:**\n",
    "\n",
    "How many email addresses will you be entering? 3 <br>\n",
    "Enter an email address: lshi@northwestern.edu  <br>\n",
    "Enter an email address: jackyu@u.northwestern.edu  <br>\n",
    "Enter an email address:   Alexa@u.northwestern.edu  <br>\n",
    "\n",
    "**Output:**\n",
    "\n",
    "Professor Emails: <br>\n",
    "lshi@northwestern.edu <br>\n",
    "\n",
    "Student Emails: <br>\n",
    "jackyu@u.northwestern.edu <br>\n",
    "alexa@u.northwestern.edu <br>\n"
   ]
  },
  {
   "cell_type": "code",
   "execution_count": 36,
   "metadata": {},
   "outputs": [
    {
     "name": "stdout",
     "output_type": "stream",
     "text": [
      "Professor Emails: \n",
      "None\n",
      "Student Emails: \n",
      "phoebechen2028@u.northwestern.edu\n",
      "mabelchen2028@u.northwestern.edu\n",
      "aricwang2028@u.northwestern.edu\n",
      "\n"
     ]
    }
   ],
   "source": [
    "professor_emails = \"\" #creates the variable to contain professor emails\n",
    "student_emails = \"\" #creates the variable to contain student\n",
    "while True:\n",
    "    try: #if input a valid number of email addresses to be entered\n",
    "        times = int(input(\"how many email addresses will you be entering?\"))\n",
    "        for i in range (times):\n",
    "            email = input(\"Enter an Email Address:\").strip().lower()\n",
    "            if email.count(\"@u.northwestern.edu\")==1:\n",
    "                student_emails += email + \"\\n\"\n",
    "            elif email.count(\"@northwestern.edu\")==1:\n",
    "                professor_emails += email +\"\\n\"\n",
    "        break\n",
    "    except ValueError: #if don't enter an integer, will continue prompting\n",
    "        print(\"Invalid input! please input an integer number:\")\n",
    "print (\"Professor Emails: \")\n",
    "if professor_emails == \"\":\n",
    "    print(\"None\")\n",
    "else:\n",
    "    print (professor_emails)\n",
    "print (\"Student Emails: \")\n",
    "if student_emails == \"\":\n",
    "    print(\"None\")\n",
    "else:\n",
    "    print(student_emails)"
   ]
  },
  {
   "cell_type": "markdown",
   "metadata": {},
   "source": [
    "## Question 4 (3 points)"
   ]
  },
  {
   "cell_type": "markdown",
   "metadata": {},
   "source": [
    "Write a tip calculator program that asks the user for the price of the meal and the percent tip they want to leave. Then print a sentence that displays both the tip amount and total bill. Example if meal price is 25 dollars and tip is 15 percent:\n",
    "                                   \n",
    "                                   Your tip amount is $3.75 and your total bill is $28.75."
   ]
  },
  {
   "cell_type": "code",
   "execution_count": 12,
   "metadata": {},
   "outputs": [
    {
     "name": "stdout",
     "output_type": "stream",
     "text": [
      "Your tip amount is $0.06  and your total bill is $2.06.\n"
     ]
    }
   ],
   "source": [
    "#calculates the tip amount in dollars based off what percent they want to give and then give total bill price\n",
    "meal = float(input(\"What is the price of your meal?\"))\n",
    "tip = float(input(\"What percent tip do you want to leave?\"))\n",
    "print(f\"Your tip amount is ${meal*(tip/100)}  and your total bill is ${meal*(tip/100+1)}.\")"
   ]
  },
  {
   "cell_type": "markdown",
   "metadata": {},
   "source": [
    "## Question 5 (3 points)"
   ]
  },
  {
   "cell_type": "markdown",
   "metadata": {},
   "source": [
    "Write a program that asks the user for a number of seconds and prints out how many minutes and seconds that is. Example:\n",
    "\n",
    "                                    200 seconds is 3 minutes and 20 seconds.\n",
    "                                               \n",
    "**Use only two lines of code for this question: one line for the input and one line for the print.** "
   ]
  },
  {
   "cell_type": "code",
   "execution_count": 13,
   "metadata": {},
   "outputs": [
    {
     "name": "stdout",
     "output_type": "stream",
     "text": [
      "3 seconds is 0 minutes and 3 seconds.\n"
     ]
    }
   ],
   "source": [
    "#returns the number of minutes and seconds in the inputed amount of seconds\n",
    "seconds= int(input(\"input a number of seconds\"))\n",
    "print (f\"{seconds} seconds is {int(seconds/60)} minutes and {seconds%60} seconds.\")"
   ]
  },
  {
   "cell_type": "markdown",
   "metadata": {},
   "source": [
    "## Question 6 (4 points)"
   ]
  },
  {
   "cell_type": "markdown",
   "metadata": {},
   "source": [
    "Write a program that asks the user to enter two numbers. Have the program return one of the following messages depending on which criteria is met. \n",
    "\n",
    "\"`num1` is greater than `num2`\"; \"`num 1` is less than `num2`\"; \"`num1` is equal to `num2`\"; where `num1` and `num2` are the user inputed values.\n",
    "\n",
    "Show the output of the program with any two numbers of your choice."
   ]
  },
  {
   "cell_type": "code",
   "execution_count": 26,
   "metadata": {},
   "outputs": [
    {
     "name": "stdout",
     "output_type": "stream",
     "text": [
      "2.0 is equal to 2.0\n"
     ]
    }
   ],
   "source": [
    "#returns the relationship between num_1 and num_2\n",
    "num_1 = float(input(\"enter a number: \"))\n",
    "num_2 = float(input(\"enter a number: \"))\n",
    "if num_1 == num_2:\n",
    "    print(f\"{num_1} is equal to {num_2}\")\n",
    "elif num_1 < num_2:\n",
    "    print(f\"{num_1} is less than {num_2}\")\n",
    "else:\n",
    "    print(f\"{num_1} is greater than {num_2}\")"
   ]
  },
  {
   "cell_type": "markdown",
   "metadata": {},
   "source": [
    "## Question 7 (4 points)"
   ]
  },
  {
   "cell_type": "markdown",
   "metadata": {},
   "source": [
    "a) Use a **single if-elif-else** statement to print the smallest of 3 user defined numbers. Show the output of the program with any three numbers of your choice."
   ]
  },
  {
   "cell_type": "code",
   "execution_count": null,
   "metadata": {},
   "outputs": [
    {
     "name": "stdout",
     "output_type": "stream",
     "text": [
      "1\n"
     ]
    }
   ],
   "source": [
    "num1 = input(\"input a number\")\n",
    "num2 = input(\"input another number\")\n",
    "num3 = input(\"input a final number\")\n",
    "#part a compares num1, num2, and num3 to see which one is smallest using single if-elsif-else\n",
    "if num1<num2 and num1<num3:\n",
    "    print(num1)\n",
    "elif num2<num3 and num2<num1:\n",
    "    print(num2)\n",
    "elif num3<num1 and num3<num2:\n",
    "    print(num3)\n",
    "else:\n",
    "    print(\"there is more than one smallest value\")"
   ]
  },
  {
   "cell_type": "markdown",
   "metadata": {},
   "source": [
    "b) Use a **nested** conditional statement to print the smallest of 3 user defined numbers. Show the output of the program with any three numbers of your choice."
   ]
  },
  {
   "cell_type": "code",
   "execution_count": null,
   "metadata": {},
   "outputs": [
    {
     "name": "stdout",
     "output_type": "stream",
     "text": [
      "1\n"
     ]
    }
   ],
   "source": [
    "#part b compares num1, num2, and num3 to see which one is smallest using nested conditional statements\n",
    "if num1<num2:\n",
    "    if num1<num3:\n",
    "        print(num1)\n",
    "    elif num3<num1:\n",
    "        print(num3)\n",
    "else:\n",
    "    if num2<num3:\n",
    "        print(num2)\n",
    "    else:\n",
    "        print(num3)"
   ]
  },
  {
   "cell_type": "markdown",
   "metadata": {},
   "source": [
    "## Question 8 (6 points)"
   ]
  },
  {
   "cell_type": "markdown",
   "metadata": {},
   "source": [
    "Write a program that asks the user to enter either rock, paper, or scissors. Use a conditional statement to determine if the user wins, loses, or ties the computer at the game \"Rock, Paper, Scissors\". Note: rock beats scissors; scissors beats paper; paper beats rock\n",
    "\n",
    "Print a meaningful sentence that includes the winner, the computer's choice, and the user's choice.\n",
    "\n",
    "- Handle case sensitivity (example: if the user enters Rock, it will still run). \n",
    "- If the user enters a word other than one of the choices, print \"Invalid choice.\". \n",
    "- Show the output of the program when the user enters Rock (capitalized)"
   ]
  },
  {
   "cell_type": "code",
   "execution_count": null,
   "metadata": {},
   "outputs": [
    {
     "name": "stdout",
     "output_type": "stream",
     "text": [
      "you lose! the computer chose paper and you chose rock)\n"
     ]
    }
   ],
   "source": [
    "# starter code to generate a random choice of rock, paper, scissors\n",
    "import random as rm\n",
    "comp_choice = rm.choice(['rock', 'paper', 'scissors'])\n",
    "\n",
    "# your solution in this code chunk below\n",
    "choice = input(\"Choose Rock, Paper, or Scissors\").strip().lower()\n",
    "#compares choice and comp_choice to see who wins\n",
    "if choice == comp_choice:\n",
    "    print(f\"tie, you both chose {choice}\")\n",
    "elif choice == \"rock\" and comp_choice == \"scissors\":\n",
    "    print(f\"you win! the computer chose {comp_choice} and you chose {choice}\")\n",
    "elif choice == \"rock\" and comp_choice == \"paper\":\n",
    "    print(f\"you lose! the computer chose {comp_choice} and you chose {choice})\")\n",
    "elif choice == \"paper\" and comp_choice == \"rock\":\n",
    "    print(f\"you win! the computer chose {comp_choice} and you chose {choice}\")\n",
    "elif choice == \"paper\" and comp_choice == \"scissors\":\n",
    "    print(f\"you lose! the computer chose {comp_choice} and you chose {choice})\")\n",
    "elif choice == \"scissors\" and comp_choice == \"paper\":\n",
    "    print(f\"you win! the computer chose {comp_choice} and you chose {choice}\")\n",
    "elif choice == \"scissors\" and comp_choice == \"rock\":\n",
    "    print(f\"you lose! the computer chose {comp_choice} and you chose {choice})\")\n",
    "else: \n",
    "    print(\"Invalid Choice\")"
   ]
  },
  {
   "cell_type": "markdown",
   "metadata": {},
   "source": [
    "## Bonus (6 points)\n",
    "\n",
    "FFor all questions in this assignment that involve accepting user input:\n",
    "\n",
    "- Use a **`try-except` block** to handle cases where the user may enter invalid input (e.g., non-numeric values).\n",
    "- Implement a **loop** that repeatedly prompts the user until a valid value is provided, so the program can proceed safely.\n",
    "- To receive credit, you must **revise each applicable question** by modifying your code to include both the input loop and error handling directly in that question’s solution.\n",
    "\n",
    "Each revised question is worth **1 point**."
   ]
  },
  {
   "cell_type": "code",
   "execution_count": 49,
   "metadata": {},
   "outputs": [
    {
     "name": "stdout",
     "output_type": "stream",
     "text": [
      "False\n"
     ]
    }
   ],
   "source": [
    "#Question 2 bonus\n",
    "while True:\n",
    "    try:\n",
    "        #compares 2 booleans and if they are both True or False, it prints True, and if not, False\n",
    "        bool_1 = bool(int(input(\"enter a boolean: \")))\n",
    "        bool_2 = bool(int(input(\"enter another boolean: \")))\n",
    "        print ((bool_1 and bool_2) or ((not bool_1) and (not bool_2)))\n",
    "        break\n",
    "    except ValueError:\n",
    "        print(\"please type 0 or 1\")\n"
   ]
  },
  {
   "cell_type": "code",
   "execution_count": 50,
   "metadata": {},
   "outputs": [
    {
     "name": "stdout",
     "output_type": "stream",
     "text": [
      "Invalid input! please input an integer number:\n",
      "Professor Emails: \n",
      "phoebechen2028@northwestern.edu\n",
      "\n",
      "Student Emails: \n",
      "phoebechen.2028@u.northwestern.edu\n",
      "\n"
     ]
    }
   ],
   "source": [
    "#Question 3 Revision\n",
    "professor_emails = \"\"\n",
    "student_emails = \"\"\n",
    "while True:\n",
    "    try:\n",
    "        times = int(input(\"how many email addresses will you be entering?\"))\n",
    "        for i in range (times):\n",
    "            email = input(\"Enter an Email Address:\").strip().lower()\n",
    "            if email.count(\"@u.northwestern.edu\")==1:\n",
    "                student_emails += email + \"\\n\"\n",
    "            elif email.count(\"@northwestern.edu\")==1:\n",
    "                professor_emails += email +\"\\n\"\n",
    "        break\n",
    "    except ValueError:\n",
    "        print(\"Invalid input! please input an integer number:\")\n",
    "print (\"Professor Emails: \")\n",
    "if professor_emails == \"\":\n",
    "    print(\"None\")\n",
    "else:\n",
    "    print (professor_emails)\n",
    "print (\"Student Emails: \")\n",
    "if student_emails == \"\":\n",
    "    print(\"None\")\n",
    "else:\n",
    "    print(student_emails)"
   ]
  },
  {
   "cell_type": "code",
   "execution_count": null,
   "metadata": {},
   "outputs": [
    {
     "name": "stdout",
     "output_type": "stream",
     "text": [
      "Please enter a number\n",
      "Please enter a number\n",
      "Please enter a number\n",
      "Please enter a number\n",
      "Please enter a number\n",
      "Your tip amount is $0.06  and your total bill is $2.06.\n"
     ]
    }
   ],
   "source": [
    "#Question 4 Bonus\n",
    "while True:\n",
    "    try:\n",
    "        #calculates the tip amount in dollars based off what percent they want to give and then give total bill price\n",
    "        meal = float(input(\"What is the price of your meal?\"))\n",
    "        tip = float(input(\"What percent tip do you want to leave?\"))\n",
    "        print(f\"Your tip amount is ${meal*(tip/100)}  and your total bill is ${meal*(tip/100+1)}.\")\n",
    "        break\n",
    "    except ValueError:\n",
    "        #prints if user enters a non-numerical number\n",
    "        print(\"Please enter a number\")\n"
   ]
  },
  {
   "cell_type": "code",
   "execution_count": 32,
   "metadata": {},
   "outputs": [
    {
     "name": "stdout",
     "output_type": "stream",
     "text": [
      "please enter an integer number\n",
      "please enter an integer number\n",
      "67 seconds is 1 minutes and 7 seconds.\n"
     ]
    }
   ],
   "source": [
    "#Question 5 Bonus\n",
    "while True:\n",
    "    try:\n",
    "        #returns the number of minutes and seconds in the inputed amount of seconds\n",
    "        seconds= int(input(\"input a number of seconds\"))\n",
    "        print (f\"{seconds} seconds is {int(seconds/60)} minutes and {seconds%60} seconds.\")\n",
    "        break\n",
    "    except ValueError:\n",
    "        print(\"please enter an integer number\")"
   ]
  },
  {
   "cell_type": "code",
   "execution_count": 34,
   "metadata": {},
   "outputs": [
    {
     "name": "stdout",
     "output_type": "stream",
     "text": [
      "please enter a number\n",
      "2.0 is less than 3.0\n"
     ]
    }
   ],
   "source": [
    "#Question 6 Bonus\n",
    "while True:\n",
    "    try:\n",
    "        #returns the relationship between num_1 and num_2\n",
    "        num_1 = float(input(\"enter a number: \"))\n",
    "        num_2 = float(input(\"enter a number: \"))\n",
    "        if num_1 == num_2:\n",
    "            print(f\"{num_1} is equal to {num_2}\")\n",
    "        elif num_1 < num_2:\n",
    "            print(f\"{num_1} is less than {num_2}\")\n",
    "        else:\n",
    "            print(f\"{num_1} is greater than {num_2}\")\n",
    "        break\n",
    "    except ValueError:\n",
    "        print(\"please enter a number\")"
   ]
  },
  {
   "cell_type": "code",
   "execution_count": 51,
   "metadata": {},
   "outputs": [
    {
     "name": "stdout",
     "output_type": "stream",
     "text": [
      "Invalid choice. Try again.\n",
      "you win! the computer chose paper and you chose scissors\n"
     ]
    }
   ],
   "source": [
    "#Question 8 Bonus\n",
    "import random as rm\n",
    "comp_choice = rm.choice(['rock', 'paper', 'scissors'])\n",
    "while True:\n",
    "    try:\n",
    "        choice = input(\"Enter rock, paper, or scissors: \").strip().lower()\n",
    "        if choice in ['rock', 'paper', 'scissors']:\n",
    "            if choice == comp_choice:\n",
    "                print(f\"tie, you both chose {choice}\")\n",
    "            elif choice == \"rock\" and comp_choice == \"scissors\":\n",
    "                print(f\"you win! the computer chose {comp_choice} and you chose {choice}\")\n",
    "            elif choice == \"rock\" and comp_choice == \"paper\":\n",
    "                print(f\"you lose! the computer chose {comp_choice} and you chose {choice})\")\n",
    "            elif choice == \"paper\" and comp_choice == \"rock\":\n",
    "                print(f\"you win! the computer chose {comp_choice} and you chose {choice}\")\n",
    "            elif choice == \"paper\" and comp_choice == \"scissors\":\n",
    "                print(f\"you lose! the computer chose {comp_choice} and you chose {choice})\")\n",
    "            elif choice == \"scissors\" and comp_choice == \"paper\":\n",
    "                print(f\"you win! the computer chose {comp_choice} and you chose {choice}\")\n",
    "            elif choice == \"scissors\" and comp_choice == \"rock\":\n",
    "                print(f\"you lose! the computer chose {comp_choice} and you chose {choice})\")\n",
    "            break\n",
    "        else:\n",
    "            print(\"Invalid choice. Try again.\")\n",
    "    except:\n",
    "        print(\"Something went wrong. Try again.\")"
   ]
  }
 ],
 "metadata": {
  "kernelspec": {
   "display_name": "Python 3",
   "language": "python",
   "name": "python3"
  },
  "language_info": {
   "codemirror_mode": {
    "name": "ipython",
    "version": 3
   },
   "file_extension": ".py",
   "mimetype": "text/x-python",
   "name": "python",
   "nbconvert_exporter": "python",
   "pygments_lexer": "ipython3",
   "version": "3.13.2"
  }
 },
 "nbformat": 4,
 "nbformat_minor": 4
}
