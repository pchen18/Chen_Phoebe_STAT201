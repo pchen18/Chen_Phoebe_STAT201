{
 "cells": [
  {
   "cell_type": "raw",
   "metadata": {
    "vscode": {
     "languageId": "raw"
    }
   },
   "source": [
    "---\n",
    "title: \"Assignment 2\"\n",
    "subtitle: \"STAT 201\"\n",
    "author: \"Phoebe Chen\"\n",
    "format:\n",
    "  html:\n",
    "    toc: true\n",
    "    embed-resources: true\n",
    "---"
   ]
  },
  {
   "cell_type": "markdown",
   "metadata": {},
   "source": [
    "### Instructions"
   ]
  },
  {
   "cell_type": "markdown",
   "metadata": {},
   "source": [
    "1. **Write your name** on the assignment.\n",
    "\n",
    "2. Write your code in the *Code* cells of the **template provided** to write solutions for the assignment. **Do not open a new notebook**, and work from scratch. Ensure that the solution is written neatly enough to understand and grade.\n",
    "\n",
    "3. Use [Quarto](https://quarto.org/docs/output-formats/html-basics.html) to print the *.ipynb* file as HTML. You will need to open the command prompt, navigate to the directory containing the file, and use the command: `quarto render filename.ipynb --to html`. Submit the HTML file.\n",
    "\n",
    "4. You may talk to a friend, discuss the questions and potential directions for solving them. However, you need to write your own solutions and code separately, and not as a group activity. Do not use AI to solve the problems.\n",
    "\n",
    "5. There are 2 points for cleanliness and organization. The breakdown is as follows:\n",
    "    - Must be an HTML file rendered using Quarto. \n",
    "    - There aren’t excessively long outputs of extraneous information (e.g. no printouts of unnecessary results without good reason, there aren’t long printouts of which iteration a loop is on, there aren’t long sections of commented-out code, etc.). There is no piece of unnecessary / redundant code, and no unnecessary / redundant text\n",
    "    - The code follows the [python style guide](https://peps.python.org/pep-0008/) for naming variables, spaces, indentation, etc.\n",
    "    - The code should be commented and clearly written with intuitive variable names. For example, use variable names such as number_input, factor, hours, instead of a,b,xyz, etc."
   ]
  },
  {
   "cell_type": "markdown",
   "metadata": {},
   "source": [
    "### Question 1 (3 points)"
   ]
  },
  {
   "cell_type": "markdown",
   "metadata": {},
   "source": [
    "a) Write a program that counts down from 5 and then prints the message \"Go\"."
   ]
  },
  {
   "cell_type": "code",
   "execution_count": 20,
   "metadata": {},
   "outputs": [
    {
     "name": "stdout",
     "output_type": "stream",
     "text": [
      "5\n",
      "4\n",
      "3\n",
      "2\n",
      "1\n",
      "Go!\n"
     ]
    }
   ],
   "source": [
    "number = 5\n",
    "for i in range (number,0,-1):\n",
    "    print (i)\n",
    "print(\"Go!\")\n"
   ]
  },
  {
   "cell_type": "markdown",
   "metadata": {},
   "source": [
    "b) Write a program that asks the user for an integer, then counts down from that integer and then prints the message \"Go\". Use a try-except to ensure the user entered an integer. If it is not an integer, return the message \"You must enter an integer\". Show the output of the program if the user inputs `3`. "
   ]
  },
  {
   "cell_type": "code",
   "execution_count": 92,
   "metadata": {},
   "outputs": [
    {
     "name": "stdout",
     "output_type": "stream",
     "text": [
      "3\n",
      "2\n",
      "1\n",
      "Go!\n"
     ]
    }
   ],
   "source": [
    "while True:\n",
    "    try:\n",
    "        number = int(input(\"enter an integer:\"))\n",
    "        for i in range (number,0,-1):\n",
    "            print (i)\n",
    "        print(\"Go!\")\n",
    "        break\n",
    "    except ValueError:\n",
    "        print(\"you must enter an integer\")"
   ]
  },
  {
   "cell_type": "markdown",
   "metadata": {},
   "source": [
    "c) Copy and modify part b to allow the user to keep entering input until they correctly enter an integer (ie: don't end after the except). Show the output of the program if the user first inputs `8.9` and then inputs `7`. "
   ]
  },
  {
   "cell_type": "code",
   "execution_count": 19,
   "metadata": {},
   "outputs": [
    {
     "name": "stdout",
     "output_type": "stream",
     "text": [
      "you must enter an integer\n",
      "7\n",
      "6\n",
      "5\n",
      "4\n",
      "3\n",
      "2\n",
      "1\n",
      "Go!\n"
     ]
    }
   ],
   "source": [
    "while True:\n",
    "    try:\n",
    "        number = int(input(\"enter an integer:\"))\n",
    "        for i in range (number,0,-1):\n",
    "            print (i)\n",
    "        print(\"Go!\")\n",
    "        break\n",
    "    except ValueError:\n",
    "        print(\"you must enter an integer\")"
   ]
  },
  {
   "cell_type": "markdown",
   "metadata": {},
   "source": [
    "### Question 2 (2 points)"
   ]
  },
  {
   "cell_type": "markdown",
   "metadata": {},
   "source": [
    "Print a star formation as follows:\n",
    "\n",
    "                                             * \n",
    "                                             * * \n",
    "                                             * * * \n",
    "                                             * * * * \n",
    "                                             \n",
    "Ask the user to input the height of the formation first. For example, 4 should return the formation above. Show the output of the program if the user inputs `5`. "
   ]
  },
  {
   "cell_type": "code",
   "execution_count": 122,
   "metadata": {},
   "outputs": [
    {
     "name": "stdout",
     "output_type": "stream",
     "text": [
      "* \n",
      "* * \n",
      "* * * \n",
      "* * * * \n",
      "* * * * * \n"
     ]
    }
   ],
   "source": [
    "height = int(input(\"enter an integer\"))\n",
    "for i in range (0,height,1):\n",
    "    print(\"* \"* (i+1))\n"
   ]
  },
  {
   "cell_type": "markdown",
   "metadata": {},
   "source": [
    "### Question 3 (6 points)"
   ]
  },
  {
   "cell_type": "markdown",
   "metadata": {},
   "source": [
    "a) Write a program where you play 3 \"Rock, Paper, Scissors\" games against the computer. Simulate a random choice for the computer each game and ask the user to enter either rock, paper, or scissors. Print the number of times the user won out of 3 games. Show the output of the program after playing the game. \n",
    "\n",
    "Recall: rock beats scissors; scissors beats paper; paper beats rock.\n",
    "\n",
    "Example:\n",
    "\n",
    "                                    \"You won <num_win> out of 3 games.\""
   ]
  },
  {
   "cell_type": "code",
   "execution_count": 36,
   "metadata": {},
   "outputs": [
    {
     "name": "stdout",
     "output_type": "stream",
     "text": [
      "you win! the computer chose scissors and you chose rock\n",
      "you lose! the computer chose scissors and you chose paper)\n",
      "tie, you both chose scissors\n",
      "you won 1 out of 3 games\n"
     ]
    }
   ],
   "source": [
    "# import the random function and name the alias rm\n",
    "import random as rm\n",
    "\n",
    "# code to generate a random choice of rock, paper, scissors for the computer\n",
    "comp_choice = rm.choice(['rock', 'paper', 'scissors'])\n",
    "\n",
    "win_player = 0\n",
    "win_computer = 0\n",
    "total_games = 0\n",
    "while total_games<3:\n",
    "    choice = input(\"Choose Rock, Paper, or Scissors\").strip().lower()\n",
    "    if choice == comp_choice:\n",
    "        print(f\"tie, you both chose {choice}\")\n",
    "        total_games += 1\n",
    "    elif choice == \"rock\" and comp_choice == \"scissors\":\n",
    "        print(f\"you win! the computer chose {comp_choice} and you chose {choice}\")\n",
    "        win_player +=1\n",
    "        total_games += 1\n",
    "    elif choice == \"rock\" and comp_choice == \"paper\":\n",
    "        print(f\"you lose! the computer chose {comp_choice} and you chose {choice})\")\n",
    "        win_computer += 1\n",
    "        total_games += 1\n",
    "    elif choice == \"paper\" and comp_choice == \"rock\":\n",
    "        print(f\"you win! the computer chose {comp_choice} and you chose {choice}\")\n",
    "        win_player +=1\n",
    "        total_games += 1\n",
    "    elif choice == \"paper\" and comp_choice == \"scissors\":\n",
    "        print(f\"you lose! the computer chose {comp_choice} and you chose {choice})\")\n",
    "        win_computer += 1\n",
    "        total_games += 1\n",
    "    elif choice == \"scissors\" and comp_choice == \"paper\":\n",
    "        print(f\"you win! the computer chose {comp_choice} and you chose {choice}\")\n",
    "        win_player +=1\n",
    "        total_games += 1\n",
    "    elif choice == \"scissors\" and comp_choice == \"rock\":\n",
    "        print(f\"you lose! the computer chose {comp_choice} and you chose {choice})\")\n",
    "        win_computer += 1\n",
    "        total_games += 1\n",
    "    else: \n",
    "        print(\"Invalid Choice\")\n",
    "print(f\"you won {win_player} out of 3 games\")"
   ]
  },
  {
   "cell_type": "markdown",
   "metadata": {},
   "source": [
    "b) Write a program where you play \"Rock, Paper, Scissors\" games against the computer until you have won 3 games. Simulate a random choice for the computer each game and ask the user to enter either rock, paper, or scissors. Print the number of games it took to win 3 times. Show the output of the program after playing the game.\n",
    "\n",
    "Example:\n",
    "\n",
    "                                    \"You won 3 out of <num_games> games.\""
   ]
  },
  {
   "cell_type": "code",
   "execution_count": 35,
   "metadata": {},
   "outputs": [
    {
     "name": "stdout",
     "output_type": "stream",
     "text": [
      "you win! the computer chose scissors and you chose rock\n",
      "you lose! the computer chose scissors and you chose paper)\n",
      "tie, you both chose scissors\n",
      "tie, you both chose scissors\n",
      "you lose! the computer chose scissors and you chose paper)\n",
      "you win! the computer chose scissors and you chose rock\n",
      "you win! the computer chose scissors and you chose rock\n",
      "You won 3 of 7 games.\n"
     ]
    }
   ],
   "source": [
    "# import the random function and name the alias rm\n",
    "import random as rm\n",
    "\n",
    "# code to generate a random choice of rock, paper, scissors for the computer\n",
    "comp_choice = rm.choice(['rock', 'paper', 'scissors'])\n",
    "win_player = 0\n",
    "win_computer = 0\n",
    "total_games = 0\n",
    "while win_player<3 and win_computer<3:\n",
    "    choice = input(\"Choose Rock, Paper, or Scissors\").strip().lower()\n",
    "    if choice == comp_choice:\n",
    "        print(f\"tie, you both chose {choice}\")\n",
    "        total_games +=1\n",
    "    elif choice == \"rock\" and comp_choice == \"scissors\":\n",
    "        print(f\"you win! the computer chose {comp_choice} and you chose {choice}\")\n",
    "        win_player +=1\n",
    "        total_games += 1\n",
    "    elif choice == \"rock\" and comp_choice == \"paper\":\n",
    "        print(f\"you lose! the computer chose {comp_choice} and you chose {choice})\")\n",
    "        win_computer +=1\n",
    "        total_games += 1\n",
    "    elif choice == \"paper\" and comp_choice == \"rock\":\n",
    "        print(f\"you win! the computer chose {comp_choice} and you chose {choice}\")\n",
    "        win_player +=1\n",
    "        total_games += 1\n",
    "    elif choice == \"paper\" and comp_choice == \"scissors\":\n",
    "        print(f\"you lose! the computer chose {comp_choice} and you chose {choice})\")\n",
    "        win_computer +=1\n",
    "        total_games += 1\n",
    "    elif choice == \"scissors\" and comp_choice == \"paper\":\n",
    "        print(f\"you win! the computer chose {comp_choice} and you chose {choice}\")\n",
    "        win_player +=1\n",
    "        total_games += 1\n",
    "    elif choice == \"scissors\" and comp_choice == \"rock\":\n",
    "        print(f\"you lose! the computer chose {comp_choice} and you chose {choice})\")\n",
    "        win_computer +=1\n",
    "        total_games += 1\n",
    "    else: \n",
    "        print(\"Invalid Choice\")\n",
    "print(f\"You won 3 of {total_games} games.\")"
   ]
  },
  {
   "cell_type": "markdown",
   "metadata": {},
   "source": [
    "### Question 4 (6 points)"
   ]
  },
  {
   "cell_type": "markdown",
   "metadata": {},
   "source": [
    "a) Write a program (loop) that prints all the factors of a positive integer input by the user. A factor is any positive integer that divides the number and leaves no remainder. Show the output of the program if the user inputs `24`. \n",
    "\n",
    "Example: The factors of 8 are 1, 2, 4, 8."
   ]
  },
  {
   "cell_type": "code",
   "execution_count": 98,
   "metadata": {},
   "outputs": [
    {
     "name": "stdout",
     "output_type": "stream",
     "text": [
      "the factors of 24 are:  1, 2, 3, 4, 6, 8, 12, 24."
     ]
    }
   ],
   "source": [
    "number = int(input(\"enter an integer\"))\n",
    "print (f\"the factors of {number} are: \", end = \" \")\n",
    "for i in range (1,number+1, 1):\n",
    "    if i == number:\n",
    "        print(i, end = \".\")\n",
    "    elif number%i == 0:\n",
    "        print(i, end = \", \")"
   ]
  },
  {
   "cell_type": "markdown",
   "metadata": {},
   "source": [
    "b) Write a **function** called `number_of_factors` that takes an integer and returns how many factors the number has. Run your function with `24` to check if it works."
   ]
  },
  {
   "cell_type": "code",
   "execution_count": 68,
   "metadata": {},
   "outputs": [
    {
     "name": "stdout",
     "output_type": "stream",
     "text": [
      "there are 8 factors in 24\n"
     ]
    }
   ],
   "source": [
    "number = int(input(\"enter an integer\"))\n",
    "def number_of_factors (number):\n",
    "    factor = 0\n",
    "    for i in range (1, number+1):\n",
    "        if number%i ==0:\n",
    "            factor+=1\n",
    "    return factor\n",
    "\n",
    "print(f\"there are {number_of_factors(number)} factors in {number}\")"
   ]
  },
  {
   "cell_type": "markdown",
   "metadata": {},
   "source": [
    "### Question 5 (6 points)"
   ]
  },
  {
   "cell_type": "markdown",
   "metadata": {},
   "source": [
    "a) Write a program (loop) that identifies whether a positive integer input by the user is prime or not. A prime number is a number whose only divisors are 1 and itself. Show the output when the program is used to check if `89` is prime or not."
   ]
  },
  {
   "cell_type": "code",
   "execution_count": 124,
   "metadata": {},
   "outputs": [
    {
     "name": "stdout",
     "output_type": "stream",
     "text": [
      "2 is prime\n"
     ]
    }
   ],
   "source": [
    "num = int(input(\"enter a number\"))\n",
    "is_prime = True\n",
    "if num<= 1:\n",
    "    is_prime =  False\n",
    "if num == 2:\n",
    "    is_prime = True\n",
    "else:\n",
    "    for x in range(2, int(i**0.5)+1): #only checks to the squareroot of the number\n",
    "        if num % x == 0:\n",
    "            is_prime = False\n",
    "            break\n",
    "if is_prime == True:\n",
    "    print (f\"{num} is prime\")\n",
    "else:\n",
    "    print (f\"{num} isn't prime\")\n",
    "\n",
    "    \n"
   ]
  },
  {
   "cell_type": "markdown",
   "metadata": {},
   "source": [
    "b) Write a **function** that checks if a positive integer is prime or not. It should take one integer input and return a boolean. Run your function with `197` to check if it works."
   ]
  },
  {
   "cell_type": "code",
   "execution_count": 120,
   "metadata": {},
   "outputs": [
    {
     "data": {
      "text/plain": [
       "True"
      ]
     },
     "execution_count": 120,
     "metadata": {},
     "output_type": "execute_result"
    }
   ],
   "source": [
    "def is_prime(i):\n",
    "    if i <= 1:\n",
    "        return False\n",
    "    for x in range(2, int(i**0.5)+1):\n",
    "        if i % x == 0:\n",
    "            return False\n",
    "    return True\n",
    "num = int(input(\"enter a number\"))\n",
    "is_prime(num)"
   ]
  },
  {
   "cell_type": "markdown",
   "metadata": {},
   "source": [
    "### Question 6 (4 points)"
   ]
  },
  {
   "cell_type": "markdown",
   "metadata": {},
   "source": [
    "Write a function that calculates the area of a rectangle. The function should have an input for length (in inches) and width (in inches). And have 2 ouputs: the area in terms of square inches and the area in terms of square feet. There are 12 inches in 1 foot. Run your function with a length of 102 inches and width of 60 inches to check if it works."
   ]
  },
  {
   "cell_type": "code",
   "execution_count": 86,
   "metadata": {},
   "outputs": [
    {
     "name": "stdout",
     "output_type": "stream",
     "text": [
      "the area in terms of square inches is: 6120.0\n",
      "the area in terms of square feet is: 42.5\n"
     ]
    }
   ],
   "source": [
    "length = float(input(\"what is the length of your rectangle in inches: \"))\n",
    "width = float(input(\"what is the width of your rectangle in inches: \"))\n",
    "area = int\n",
    "def area(l,w):\n",
    "    area_inch = l*w\n",
    "    area_feet = l*w/144\n",
    "    return area_inch,area_feet\n",
    "print(f\"the area in terms of square inches is: {area_inch(length, width)}\")\n",
    "print(f\"the area in terms of square feet is: {area_feet(length, width)}\")\n"
   ]
  },
  {
   "cell_type": "markdown",
   "metadata": {},
   "source": [
    "### Question 7 (3 points)"
   ]
  },
  {
   "cell_type": "markdown",
   "metadata": {},
   "source": [
    "Write a function that takes a word and a sentence as two string inputs and returns the number of times the word occurs in the sentence as the output.\n",
    "\n",
    "Run your function with **\"sea\"** and **“Sea shells are on the sea shore when the sea is calm.”** inputs to check if it works. Your function should work for any word and sentence. \n",
    "\n",
    "Note: at this time it does not have to differentiate a distinct word just if it appears in any form. Example: **“The sea gives me nausea.”** would return 2."
   ]
  },
  {
   "cell_type": "code",
   "execution_count": 121,
   "metadata": {},
   "outputs": [
    {
     "name": "stdout",
     "output_type": "stream",
     "text": [
      "3\n"
     ]
    }
   ],
   "source": [
    "times = 0\n",
    "def num_times(w,s):\n",
    "    w= w.lower()\n",
    "    s = s.lower()\n",
    "    return s.count(w)\n",
    "word = input(\"enter a word\")\n",
    "sentence = input(\"enter a sentence\")\n",
    "print(num_times(word, sentence))"
   ]
  }
 ],
 "metadata": {
  "kernelspec": {
   "display_name": ".venv",
   "language": "python",
   "name": "python3"
  },
  "language_info": {
   "codemirror_mode": {
    "name": "ipython",
    "version": 3
   },
   "file_extension": ".py",
   "mimetype": "text/x-python",
   "name": "python",
   "nbconvert_exporter": "python",
   "pygments_lexer": "ipython3",
   "version": "3.13.2"
  }
 },
 "nbformat": 4,
 "nbformat_minor": 4
}
